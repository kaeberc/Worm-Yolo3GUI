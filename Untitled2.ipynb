{
 "cells": [
  {
   "cell_type": "code",
   "execution_count": 1,
   "metadata": {},
   "outputs": [],
   "source": [
    "import random"
   ]
  },
  {
   "cell_type": "code",
   "execution_count": 5,
   "metadata": {},
   "outputs": [
    {
     "data": {
      "text/plain": [
       "5"
      ]
     },
     "execution_count": 5,
     "metadata": {},
     "output_type": "execute_result"
    }
   ],
   "source": [
    "random.randint(1,10)"
   ]
  },
  {
   "cell_type": "code",
   "execution_count": 6,
   "metadata": {},
   "outputs": [],
   "source": [
    "import os\n",
    "import sys\n",
    "import cv2\n",
    "import csv\n",
    "import tqdm\n",
    "import pandas as pd\n",
    "import random\n",
    "import numpy as np"
   ]
  },
  {
   "cell_type": "code",
   "execution_count": 31,
   "metadata": {},
   "outputs": [],
   "source": [
    "    df = pd.read_csv(\"C:/Users/benja/Desktop/NN_alive_dead_training_vids/Neural_Scored_CSVs/343_AD.csv\",names=('frame', 'x1', 'y1', 'w','h','label'))\n",
    "    df['x2']=df[['x1','w']].sum(axis=1)\n",
    "    df['y2']=df[['y1','h']].sum(axis=1)\n",
    "    df = df[['frame','label', 'x1', 'y1', 'w', 'h']]\n",
    "    df = df.drop(0)\n",
    "    unique = df[\"frame\"].unique()"
   ]
  },
  {
   "cell_type": "code",
   "execution_count": 22,
   "metadata": {
    "scrolled": true
   },
   "outputs": [
    {
     "name": "stdout",
     "output_type": "stream",
     "text": [
      "      frame     label    x1   y1   w   h\n",
      "1         1      worm   705  838  55  27\n",
      "2         1      worm   849  750  28  43\n",
      "3         1      worm   501  725  43  47\n",
      "4         1      worm   523  688  41  47\n",
      "5         1      worm   469  653  37  48\n",
      "...     ...       ...   ...  ...  ..  ..\n",
      "31901  1091  deadworm   805  567  35  28\n",
      "31902  1091      worm  1067  537  22  17\n",
      "31903  1091  deadworm   934  452  67  27\n",
      "31904  1091  deadworm   472  356  34  34\n",
      "31905  1091  deadworm   847  323  33  46\n",
      "\n",
      "[31905 rows x 6 columns]\n"
     ]
    }
   ],
   "source": [
    "print(df)"
   ]
  },
  {
   "cell_type": "code",
   "execution_count": 32,
   "metadata": {},
   "outputs": [
    {
     "name": "stdout",
     "output_type": "stream",
     "text": [
      "['1' '2' '3' ... '1089' '1090' '1091']\n"
     ]
    }
   ],
   "source": [
    "print(unique)"
   ]
  },
  {
   "cell_type": "code",
   "execution_count": 38,
   "metadata": {},
   "outputs": [
    {
     "name": "stdout",
     "output_type": "stream",
     "text": [
      "900\n"
     ]
    }
   ],
   "source": [
    "frame_cur = int(900)\n",
    "print(frame_cur)\n",
    "filtval = df['frame'] == str(frame_cur)\n",
    "csv_outputs = np.asarray(df[filtval])[:,:]\n",
    "out_df = pd.DataFrame(csv_outputs)"
   ]
  },
  {
   "cell_type": "code",
   "execution_count": 39,
   "metadata": {},
   "outputs": [
    {
     "name": "stdout",
     "output_type": "stream",
     "text": [
      "[['900' 'worm' '817' '975' '38' '50']\n",
      " ['900' 'deadworm' '751' '791' '44' '22']\n",
      " ['900' 'deadworm' '599' '772' '20' '26']\n",
      " ['900' 'deadworm' '1182' '741' '14' '49']\n",
      " ['900' 'deadworm' '803' '565' '38' '33']\n",
      " ['900' 'deadworm' '939' '452' '64' '26']\n",
      " ['900' 'deadworm' '474' '356' '29' '28']\n",
      " ['900' 'deadworm' '847' '321' '33' '49']\n",
      " ['900' 'deadworm' '910' '257' '44' '19']\n",
      " ['900' 'deadworm' '792' '120' '17' '41']\n",
      " ['900' 'worm' '817' '975' '38' '50']\n",
      " ['900' 'deadworm' '751' '791' '44' '22']\n",
      " ['900' 'deadworm' '599' '772' '20' '26']\n",
      " ['900' 'deadworm' '1182' '741' '14' '49']\n",
      " ['900' 'deadworm' '803' '565' '38' '33']\n",
      " ['900' 'deadworm' '939' '452' '64' '26']\n",
      " ['900' 'deadworm' '474' '356' '29' '28']\n",
      " ['900' 'deadworm' '847' '321' '33' '49']\n",
      " ['900' 'deadworm' '910' '257' '44' '19']\n",
      " ['900' 'deadworm' '792' '120' '17' '41']]\n"
     ]
    }
   ],
   "source": [
    "print(csv_outputs)"
   ]
  },
  {
   "cell_type": "code",
   "execution_count": 34,
   "metadata": {},
   "outputs": [
    {
     "data": {
      "text/plain": [
       "'1'"
      ]
     },
     "execution_count": 34,
     "metadata": {},
     "output_type": "execute_result"
    }
   ],
   "source": [
    "str(1)"
   ]
  },
  {
   "cell_type": "code",
   "execution_count": null,
   "metadata": {},
   "outputs": [],
   "source": []
  }
 ],
 "metadata": {
  "kernelspec": {
   "display_name": "Python 3",
   "language": "python",
   "name": "python3"
  },
  "language_info": {
   "codemirror_mode": {
    "name": "ipython",
    "version": 3
   },
   "file_extension": ".py",
   "mimetype": "text/x-python",
   "name": "python",
   "nbconvert_exporter": "python",
   "pygments_lexer": "ipython3",
   "version": "3.7.3"
  }
 },
 "nbformat": 4,
 "nbformat_minor": 4
}
