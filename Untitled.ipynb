{
 "cells": [
  {
   "cell_type": "code",
   "execution_count": 8,
   "id": "interpreted-flexibility",
   "metadata": {},
   "outputs": [
    {
     "data": {
      "text/plain": [
       "['638_ThioT',\n",
       " '641_DMSO',\n",
       " '643_ThioT',\n",
       " '644_ThioT',\n",
       " '645_DMSO',\n",
       " '648_DMSO',\n",
       " '673_ALA',\n",
       " '676_DMSO',\n",
       " '678_ALA',\n",
       " '679_ALA',\n",
       " '681_DMSO',\n",
       " '683_DMSO',\n",
       " '684_Res',\n",
       " '688_DMSO',\n",
       " '689_Res',\n",
       " '693_DMSO',\n",
       " '694_Res']"
      ]
     },
     "execution_count": 8,
     "metadata": {},
     "output_type": "execute_result"
    }
   ],
   "source": [
    "import os\n",
    "os.listdir('D:/DrugAge_historical/Vids/')"
   ]
  },
  {
   "cell_type": "code",
   "execution_count": null,
   "id": "based-sudan",
   "metadata": {},
   "outputs": [],
   "source": []
  }
 ],
 "metadata": {
  "kernelspec": {
   "display_name": "Python 3",
   "language": "python",
   "name": "python3"
  },
  "language_info": {
   "codemirror_mode": {
    "name": "ipython",
    "version": 3
   },
   "file_extension": ".py",
   "mimetype": "text/x-python",
   "name": "python",
   "nbconvert_exporter": "python",
   "pygments_lexer": "ipython3",
   "version": "3.7.3"
  }
 },
 "nbformat": 4,
 "nbformat_minor": 5
}
