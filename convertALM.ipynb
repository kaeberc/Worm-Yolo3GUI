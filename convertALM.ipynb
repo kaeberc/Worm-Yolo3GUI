{
 "cells": [
  {
   "cell_type": "code",
   "execution_count": 2,
   "id": "white-vessel",
   "metadata": {},
   "outputs": [],
   "source": [
    "import os\n",
    "import sys\n",
    "from os import environ\n",
    "environ[\"OPENCV_IO_ENABLE_JASPER\"] = \"true\"\n",
    "import cv2\n",
    "import csv\n",
    "import tqdm\n",
    "import pandas as pd\n",
    "import random\n",
    "import numpy as np\n",
    "import time\n",
    "import fnmatch\n",
    "\n",
    "\n",
    "\n",
    "\n",
    "# declare source directory and out path\n",
    "\"\"\"\n",
    "IMG_DIR is path to the folder with the images\n",
    "OUT_PATH is the path to the csv file you would like the output to go to\n",
    "i.e './output/sample.csv'\n",
    "\"\"\"\n",
    "VID_PATH = \"D:/ALM2/ALM_C2.avi\"\n",
    "out_video_path= \"D:/ALM2/ALM_C2_resize.avi\"\n",
    "#img_list = fnmatch.filter(os.listdir(IMG_DIR),\"*.jp2\")\n",
    "#frames = 1\n",
    " "
   ]
  },
  {
   "cell_type": "code",
   "execution_count": 3,
   "id": "pressed-invalid",
   "metadata": {},
   "outputs": [
    {
     "name": "stdout",
     "output_type": "stream",
     "text": [
      "4511 4351\n"
     ]
    },
    {
     "ename": "error",
     "evalue": "OpenCV(4.1.2) C:\\projects\\opencv-python\\opencv\\modules\\imgproc\\src\\resize.cpp:3720: error: (-215:Assertion failed) !ssize.empty() in function 'cv::resize'\n",
     "output_type": "error",
     "traceback": [
      "\u001b[1;31m---------------------------------------------------------------------------\u001b[0m",
      "\u001b[1;31merror\u001b[0m                                     Traceback (most recent call last)",
      "\u001b[1;32m<ipython-input-3-3213eb320cd5>\u001b[0m in \u001b[0;36m<module>\u001b[1;34m\u001b[0m\n\u001b[0;32m     14\u001b[0m         \u001b[0mwriter\u001b[0m \u001b[1;33m=\u001b[0m \u001b[0mcv2\u001b[0m\u001b[1;33m.\u001b[0m\u001b[0mVideoWriter\u001b[0m\u001b[1;33m(\u001b[0m\u001b[0mout_video_path\u001b[0m\u001b[1;33m,\u001b[0m \u001b[0mfourcc\u001b[0m\u001b[1;33m,\u001b[0m \u001b[1;36m10\u001b[0m\u001b[1;33m,\u001b[0m \u001b[1;33m(\u001b[0m\u001b[0mwidthnu\u001b[0m\u001b[1;33m,\u001b[0m \u001b[0mheightnu\u001b[0m\u001b[1;33m)\u001b[0m\u001b[1;33m,\u001b[0m \u001b[1;32mTrue\u001b[0m\u001b[1;33m)\u001b[0m\u001b[1;33m\u001b[0m\u001b[1;33m\u001b[0m\u001b[0m\n\u001b[0;32m     15\u001b[0m \u001b[1;33m\u001b[0m\u001b[0m\n\u001b[1;32m---> 16\u001b[1;33m     \u001b[0mframenu\u001b[0m \u001b[1;33m=\u001b[0m \u001b[0mcv2\u001b[0m\u001b[1;33m.\u001b[0m\u001b[0mresize\u001b[0m\u001b[1;33m(\u001b[0m\u001b[0mframe\u001b[0m\u001b[1;33m,\u001b[0m \u001b[0mdsize\u001b[0m\u001b[1;33m)\u001b[0m\u001b[1;33m\u001b[0m\u001b[1;33m\u001b[0m\u001b[0m\n\u001b[0m\u001b[0;32m     17\u001b[0m     \u001b[0mwriter\u001b[0m\u001b[1;33m.\u001b[0m\u001b[0mwrite\u001b[0m\u001b[1;33m(\u001b[0m\u001b[0mframenu\u001b[0m\u001b[1;33m)\u001b[0m\u001b[1;33m\u001b[0m\u001b[1;33m\u001b[0m\u001b[0m\n\u001b[0;32m     18\u001b[0m \u001b[0mwriter\u001b[0m\u001b[1;33m.\u001b[0m\u001b[0mrelease\u001b[0m\u001b[1;33m(\u001b[0m\u001b[1;33m)\u001b[0m\u001b[1;33m\u001b[0m\u001b[1;33m\u001b[0m\u001b[0m\n",
      "\u001b[1;31merror\u001b[0m: OpenCV(4.1.2) C:\\projects\\opencv-python\\opencv\\modules\\imgproc\\src\\resize.cpp:3720: error: (-215:Assertion failed) !ssize.empty() in function 'cv::resize'\n"
     ]
    }
   ],
   "source": [
    "vid = cv2.VideoCapture(VID_PATH)\n",
    "\n",
    "\n",
    "while (1):\n",
    "    ret, frame = vid.read()\n",
    "    frame_count = vid.get(cv2.CAP_PROP_POS_FRAMES)\n",
    "    if frame_count == 1:\n",
    "        height, width, channels = frame.shape\n",
    "        print(height, width)\n",
    "        fourcc = cv2.VideoWriter_fourcc(*\"MJPG\")\n",
    "        widthnu = int(width * .3)\n",
    "        heightnu = int(height * .3)\n",
    "        dsize = (widthnu, heightnu)\n",
    "        writer = cv2.VideoWriter(out_video_path, fourcc, 10, (widthnu, heightnu), True)\n",
    "\n",
    "    framenu = cv2.resize(frame, dsize)\n",
    "    writer.write(framenu)\n",
    "writer.release()   \n",
    "print(\"done\")"
   ]
  },
  {
   "cell_type": "code",
   "execution_count": null,
   "id": "egyptian-modeling",
   "metadata": {},
   "outputs": [],
   "source": [
    "print(img_list)"
   ]
  },
  {
   "cell_type": "code",
   "execution_count": null,
   "id": "frequent-magic",
   "metadata": {},
   "outputs": [],
   "source": [
    "set OPENCV_IO_ENABLE_JASPER = ON"
   ]
  },
  {
   "cell_type": "code",
   "execution_count": null,
   "id": "wrapped-variance",
   "metadata": {},
   "outputs": [],
   "source": []
  }
 ],
 "metadata": {
  "kernelspec": {
   "display_name": "Python 3",
   "language": "python",
   "name": "python3"
  },
  "language_info": {
   "codemirror_mode": {
    "name": "ipython",
    "version": 3
   },
   "file_extension": ".py",
   "mimetype": "text/x-python",
   "name": "python",
   "nbconvert_exporter": "python",
   "pygments_lexer": "ipython3",
   "version": "3.7.3"
  }
 },
 "nbformat": 4,
 "nbformat_minor": 5
}
