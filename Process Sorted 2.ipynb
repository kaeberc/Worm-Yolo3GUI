{
 "cells": [
  {
   "cell_type": "code",
   "execution_count": 56,
   "id": "musical-anatomy",
   "metadata": {},
   "outputs": [],
   "source": [
    "import os\n",
    "import sys\n",
    "import cv2\n",
    "import csv\n",
    "import tqdm\n",
    "import pandas as pd\n",
    "import random\n",
    "import numpy as np\n",
    "import time\n",
    "from skimage.morphology import skeletonize, medial_axis\n",
    "from matplotlib import pyplot as plt"
   ]
  },
  {
   "cell_type": "code",
   "execution_count": 57,
   "id": "ongoing-steps",
   "metadata": {},
   "outputs": [],
   "source": [
    "\n",
    "def bb_intersection_over_union(boxA, boxB):\n",
    "    # determine the (x, y)-coordinates of the intersection rectangle\n",
    "    xA = max(boxA[0], boxB[0])\n",
    "    yA = max(boxA[1], boxB[1])\n",
    "    xB = min(boxA[2], boxB[2])\n",
    "    yB = min(boxA[3], boxB[3])\n",
    "    # compute the area of intersection rectangle\n",
    "    interArea = max(0, xB - xA + 1) * max(0, yB - yA + 1)\n",
    "    # compute the area of both the prediction and ground-truth\n",
    "    # rectangles\n",
    "    boxAArea = (boxA[2] - boxA[0] + 1) * (boxA[3] - boxA[1] + 1)\n",
    "    boxBArea = (boxB[2] - boxB[0] + 1) * (boxB[3] - boxB[1] + 1)\n",
    "    # compute the intersection over union by taking the intersection\n",
    "    # area and dividing it by the sum of prediction + ground-truth\n",
    "    # areas - the interesection area\n",
    "    iou = interArea / float(boxAArea + boxBArea - interArea)\n",
    "    # return the intersection over union value\n",
    "    return iou"
   ]
  },
  {
   "cell_type": "code",
   "execution_count": 58,
   "id": "chief-dayton",
   "metadata": {},
   "outputs": [],
   "source": [
    "CSV_SORT_PATH = \"C:/Users/benja\\Desktop/NN_alive_dead_training_vids/Sorted/356_sort_forward.csv\"\n",
    "df = pd.read_csv(CSV_SORT_PATH,names=('frame', 'x1', 'y1', 'x2', 'y2','label','delta'))\n",
    "df['catagory'] = 'alive'\n",
    "#df['X']=df[['x1','x2']].mean(axis=1)\n",
    "#df['Y']=df[['y1','y2']].mean(axis=1)\n",
    "#df = df[['frame', 'X', 'Y','label']]\n",
    "uniqueFrames = df[\"frame\"].unique()\n",
    "uniqueIDs = df[\"label\"].unique()"
   ]
  },
  {
   "cell_type": "code",
   "execution_count": 59,
   "id": "painful-hearts",
   "metadata": {},
   "outputs": [],
   "source": [
    "threshold = 45\n",
    "vc = df.label.value_counts()\n",
    "test = vc[vc > threshold].index.tolist()\n",
    "csv_outputs = []\n",
    "deadboxes = []\n",
    "for ID in test:        \n",
    "    filtval = df['label'] ==ID\n",
    "    interim = df[filtval]\n",
    "    interimD = []\n",
    "    interim2 = np.asarray(interim)\n",
    "    fill = 0\n",
    "    deadcount = 0\n",
    "    for row in interim2:\n",
    "        frameNA, x1A, y1A, x2A, y2A, labelA, deltaA, catagoryA, *_ = row\n",
    "        if fill > 1:\n",
    "            boxA = [x1A, y1A, x2A, y2A]\n",
    "            boxB = [x1B, y1B, x2B, y2B]\n",
    "            deltaA = bb_intersection_over_union(boxA, boxB) \n",
    "            #print(deltaA)\n",
    "            if deltaA > 0.95:\n",
    "                deadcount += 1\n",
    "                #print(deadcount)\n",
    "            #print(fill)\n",
    "            if deadcount > 10:\n",
    "                catagoryA = 'dead'\n",
    "               # print(deadcount)\n",
    "            if deadcount == 11:\n",
    "                if deadboxes == []:\n",
    "                    deadboxes.append([x1A, y1A, x2A, y2A])               \n",
    "                    csv_outputs.append(frameNA)\n",
    "                else:\n",
    "                    isunique = 0\n",
    "                    for box in deadboxes:\n",
    "                        #print(box)\n",
    "                        x1D, y1D, x2D, y2D, *_ = box\n",
    "                        boxD = [x1D, y1D, x2D, y2D]\n",
    "                        deltaD = bb_intersection_over_union(boxA, boxD)  \n",
    "                        if deltaD > 0.8:\n",
    "                            isunique = 1\n",
    "                    if isunique == 0:\n",
    "                        deadboxes.append([x1A, y1A, x2A, y2A])               \n",
    "                        csv_outputs.append(int(frameNA))\n",
    "\n",
    "                #print(deathtime)\n",
    "                #print(frameNA)\n",
    "            #newRow = [frameNA, x1A, y1A, x2A, y2A, labelA, deltaA, catagoryA]\n",
    "            #interimD.append(newRow)\n",
    "        frameNB, x1B, y1B, x2B, y2B,labelB, deltaB, catagoryB, *_ = row\n",
    "        fill +=1\n",
    "        #interimD.append(deathtime)\n",
    "    #interimD = pd.DataFrame(interimD, columns = ['deathframe'])\n",
    "    #csv_outputs.append(interimD)\n",
    "#large_df = pd.concat(csv_outputs, ignore_index=True)  \n",
    "csv_outputs = pd.DataFrame(csv_outputs, columns = ['deathframe'])\n",
    "OUT_PATH = 'C:/Users/benja/Desktop/NN_alive_dead_training_vids/Sorted_Deathtimes/356_sorted_AD.csv'\n",
    "pd.DataFrame(csv_outputs).to_csv(OUT_PATH, mode='a', header=False, index=None)"
   ]
  },
  {
   "cell_type": "code",
   "execution_count": 36,
   "id": "tight-civilization",
   "metadata": {},
   "outputs": [
    {
     "name": "stdout",
     "output_type": "stream",
     "text": [
      "[[581.492500976467, 624.4790838098402, 647.0509882827544, 643.7174491929782], [501.34910675634296, 405.2739349768932, 536.6417227306088, 452.188582408094], [680.1955755671454, 571.7159143243024, 701.9740311326893, 615.2931380820288], [727.5135094250129, 503.1226790457655, 770.228918438874, 553.7532969025741], [527.1301332046196, 262.9232818910121, 586.336043128546, 278.3732654573447], [530.7501316106896, 264.37954652886714, 588.2348561330359, 279.0954903616965], [631.3855639723081, 91.28704643417186, 697.6484745141461, 119.98622212331452], [955.2986630910998, 826.8915620566629, 1003.1524350962908, 860.7929487200886], [959.6389953395222, 828.1548133771506, 1007.4841319744944, 861.3773312640559], [881.782656606674, 413.4892135722458, 913.0587996820784, 466.92714065057993], [894.4503588039829, 524.3359517763527, 932.689920605044, 564.7429368952576], [990.40436995862, 247.7365398925408, 1056.456675432852, 269.77214641614967], [1067.0691549037558, 702.919805227893, 1132.2840491504187, 731.8253863848613], [920.3864594637132, 654.0198708676979, 981.0770622752927, 680.7148469331288], [989.0636698257993, 831.4438388780272, 1042.3172694215448, 859.6722412127781], [1131.4380537068903, 478.37646381228296, 1150.918743243306, 544.2018781913246], [1134.5055872690898, 477.693858162869, 1153.2984646856537, 544.5289163469324], [796.0593412024213, 887.3460138713488, 856.6611380552562, 920.2473305805274]]\n"
     ]
    }
   ],
   "source": [
    "print(deadboxes)"
   ]
  },
  {
   "cell_type": "code",
   "execution_count": 39,
   "id": "future-carpet",
   "metadata": {},
   "outputs": [
    {
     "name": "stdout",
     "output_type": "stream",
     "text": [
      "[441.0, 498.0, 627.0, 609.0, 587.0, 595.0, 682.0, 678.0, 682.0, 704.0, 771.0, 770.0, 855.0, 695.0, 526.0, 1015.0, 1016.0, 478.0]\n"
     ]
    }
   ],
   "source": [
    "print(csv_outputs)"
   ]
  },
  {
   "cell_type": "code",
   "execution_count": null,
   "id": "missing-virus",
   "metadata": {},
   "outputs": [],
   "source": []
  }
 ],
 "metadata": {
  "kernelspec": {
   "display_name": "Python 3",
   "language": "python",
   "name": "python3"
  },
  "language_info": {
   "codemirror_mode": {
    "name": "ipython",
    "version": 3
   },
   "file_extension": ".py",
   "mimetype": "text/x-python",
   "name": "python",
   "nbconvert_exporter": "python",
   "pygments_lexer": "ipython3",
   "version": "3.7.3"
  }
 },
 "nbformat": 4,
 "nbformat_minor": 5
}
