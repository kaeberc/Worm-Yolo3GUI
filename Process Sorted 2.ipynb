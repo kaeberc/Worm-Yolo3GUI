{
 "cells": [
  {
   "cell_type": "code",
   "execution_count": 12,
   "id": "musical-anatomy",
   "metadata": {},
   "outputs": [],
   "source": [
    "import os\n",
    "import sys\n",
    "import cv2\n",
    "import csv\n",
    "import tqdm\n",
    "import pandas as pd\n",
    "import random\n",
    "import numpy as np\n",
    "import time\n",
    "from skimage.morphology import skeletonize, medial_axis\n",
    "from matplotlib import pyplot as plt\n",
    "from re import sub"
   ]
  },
  {
   "cell_type": "code",
   "execution_count": 13,
   "id": "ongoing-steps",
   "metadata": {},
   "outputs": [],
   "source": [
    "\n",
    "def bb_intersection_over_union(boxA, boxB):\n",
    "    # determine the (x, y)-coordinates of the intersection rectangle\n",
    "    xA = max(boxA[0], boxB[0])\n",
    "    yA = max(boxA[1], boxB[1])\n",
    "    xB = min(boxA[2], boxB[2])\n",
    "    yB = min(boxA[3], boxB[3])\n",
    "    # compute the area of intersection rectangle\n",
    "    interArea = max(0, xB - xA + 1) * max(0, yB - yA + 1)\n",
    "    # compute the area of both the prediction and ground-truth\n",
    "    # rectangles\n",
    "    boxAArea = (boxA[2] - boxA[0] + 1) * (boxA[3] - boxA[1] + 1)\n",
    "    boxBArea = (boxB[2] - boxB[0] + 1) * (boxB[3] - boxB[1] + 1)\n",
    "    # compute the intersection over union by taking the intersection\n",
    "    # area and dividing it by the sum of prediction + ground-truth\n",
    "    # areas - the interesection area\n",
    "    iou = interArea / float(boxAArea + boxBArea - interArea)\n",
    "    # return the intersection over union value\n",
    "    return iou"
   ]
  },
  {
   "cell_type": "code",
   "execution_count": 28,
   "id": "chief-dayton",
   "metadata": {},
   "outputs": [],
   "source": [
    "CSV_SORT_PATH = \"D:/DrugAge_thiot_GMC101/Sorted/604.csv\"\n",
    "df = pd.read_csv(CSV_SORT_PATH,names=('frame', 'x1', 'y1', 'x2', 'y2','label','delta'))\n",
    "df['catagory'] = 'alive'\n",
    "#df['X']=df[['x1','x2']].mean(axis=1)\n",
    "#df['Y']=df[['y1','y2']].mean(axis=1)\n",
    "#df = df[['frame', 'X', 'Y','label']]\n",
    "uniqueFrames = df[\"frame\"].unique()\n",
    "uniqueIDs = df[\"label\"].unique()"
   ]
  },
  {
   "cell_type": "code",
   "execution_count": 29,
   "id": "painful-hearts",
   "metadata": {},
   "outputs": [],
   "source": [
    "threshold = 150\n",
    "vc = df.label.value_counts()\n",
    "test = vc[vc > threshold].index.tolist()\n",
    "csv_outputs = []\n",
    "deadboxes = []\n",
    "deathspots = []\n",
    "fullboxes = []\n",
    "for ID in test:        \n",
    "    filtval = df['label'] ==ID\n",
    "    interim = df[filtval]\n",
    "    interimD = []\n",
    "    interim2 = np.asarray(interim)\n",
    "    fill = 0\n",
    "    deadcount = 0\n",
    "    for row in interim2:\n",
    "        frameNA, x1A, y1A, x2A, y2A, labelA, deltaA, catagoryA, *_ = row\n",
    "        if fill > 1:\n",
    "            boxA = [x1A, y1A, x2A, y2A]\n",
    "            boxB = [x1B, y1B, x2B, y2B]\n",
    "            deltaA = bb_intersection_over_union(boxA, boxB) \n",
    "            #print(deltaA)\n",
    "            if deltaA > 0.95:\n",
    "                deadcount += 1\n",
    "                #print(deadcount)\n",
    "            #print(fill)\n",
    "            if deadcount > 15:\n",
    "                catagoryA = 'dead'\n",
    "               # print(deadcount)\n",
    "            if deadcount == 16:\n",
    "                if deadboxes == []:\n",
    "                    deathspots.append([frameNA, x1A, y1A, x2A, y2A])     \n",
    "                    deadboxes.append([x1A, y1A, x2A, y2A])  \n",
    "                    csv_outputs.append((frameNA/144+1))\n",
    "                else:\n",
    "                    notunique = 0\n",
    "                    for box in deadboxes:\n",
    "                        #print(box)\n",
    "                        x1D, y1D, x2D, y2D, *_ = box\n",
    "                        boxD = [x1D, y1D, x2D, y2D]\n",
    "                        deltaD = bb_intersection_over_union(boxA, boxD)  \n",
    "                        if deltaD > 0.3:\n",
    "                            notunique = 1\n",
    "                    if notunique == 0:\n",
    "                        deathspots.append([frameNA, x1A, y1A, x2A, y2A])  \n",
    "                        deadboxes.append([x1A, y1A, x2A, y2A])               \n",
    "                        csv_outputs.append((frameNA/144+1))\n",
    "\n",
    "                #print(deathtime)\n",
    "                #print(frameNA)\n",
    "            #newRow = [frameNA, x1A, y1A, x2A, y2A, labelA, deltaA, catagoryA]\n",
    "            #interimD.append(newRow)\n",
    "        frameNB, x1B, y1B, x2B, y2B,labelB, deltaB, catagoryB, *_ = row\n",
    "        fullboxes.append([frameNA, x1A, y1A, x2A, y2A, labelA, deltaA, catagoryA])  \n",
    "\n",
    "        fill +=1\n",
    "        #if deadcount == 16:\n",
    "            #break\n",
    "            \n",
    "        #interimD.append(deathtime)\n",
    "    #interimD = pd.DataFrame(interimD, columns = ['deathframe'])\n",
    "    #csv_outputs.append(interimD)\n",
    "#large_df = pd.concat(csv_outputs, ignore_index=True)  \n",
    "csv_outputs = pd.DataFrame(csv_outputs, columns = ['#desc'])\n",
    "csv_outputs['neural'] = '1'\n",
    "\n",
    "#OUT_PATH = 'C:/Users/benja/Desktop/NN_alive_dead_training_vids/Sorted_Deathtimes/356_sorted_AD.csv'\n",
    "#pd.DataFrame(csv_outputs).to_csv(OUT_PATH, mode='a', header=False, index=None)"
   ]
  },
  {
   "cell_type": "code",
   "execution_count": 30,
   "id": "starting-collective",
   "metadata": {},
   "outputs": [
    {
     "name": "stdout",
     "output_type": "stream",
     "text": [
      "      frameNA           x1          y1           x2          y2   label  \\\n",
      "0       155.0   845.732220  573.686738   861.293090  606.383425  1343.0   \n",
      "1       156.0   845.413756  572.380266   861.779903  605.942127  1343.0   \n",
      "2       157.0   845.308483  572.945610   861.900612  605.468141  1343.0   \n",
      "3       158.0   844.842354  573.076202   860.917032  605.312217  1343.0   \n",
      "4       159.0   845.374176  572.952314   861.258161  606.083338  1343.0   \n",
      "...       ...          ...         ...          ...         ...     ...   \n",
      "3565    525.0  1170.810864  552.263472  1189.893250  577.538859  1992.0   \n",
      "3566    526.0  1170.181463  551.934770  1190.092039  578.020237  1992.0   \n",
      "3567    527.0  1169.705134  551.975132  1189.096872  578.035509  1992.0   \n",
      "3568    528.0  1169.341439  551.805506  1188.902676  577.570838  1992.0   \n",
      "3569    529.0  1170.292181  551.326332  1189.702878  577.154750  1992.0   \n",
      "\n",
      "         delta catagory  \n",
      "0          NaN    alive  \n",
      "1          NaN    alive  \n",
      "2     0.957839    alive  \n",
      "3     0.912061    alive  \n",
      "4     0.925709    alive  \n",
      "...        ...      ...  \n",
      "3565  0.956279     dead  \n",
      "3566  0.931670     dead  \n",
      "3567  0.929340     dead  \n",
      "3568  0.950793     dead  \n",
      "3569  0.889070     dead  \n",
      "\n",
      "[3570 rows x 8 columns]\n"
     ]
    }
   ],
   "source": [
    "deathspots2 = pd.DataFrame(fullboxes, columns = ['frameNA','x1', 'y1', 'x2', 'y2','label','delta','catagory'])\n",
    "print(deathspots2)"
   ]
  },
  {
   "cell_type": "code",
   "execution_count": 23,
   "id": "primary-excess",
   "metadata": {},
   "outputs": [],
   "source": [
    "pd.DataFrame(deathspots2).to_csv('C:/Users/benja/Desktop/831_tracked2.csv', mode='w', header=True, index=None)\n",
    "\n"
   ]
  },
  {
   "cell_type": "code",
   "execution_count": 33,
   "id": "terminal-electricity",
   "metadata": {},
   "outputs": [
    {
     "name": "stdout",
     "output_type": "stream",
     "text": [
      "C:/Users/benja/Desktop/604_death4.avi\n"
     ]
    }
   ],
   "source": [
    "VID_PATH = \"C:/Users/benja/Downloads/604.avi\"\n",
    "vid = cv2.VideoCapture(VID_PATH)\n",
    "OUT_PATH = \"C:/Users/benja/Desktop\"\n",
    "total_frame_count = vid.get(cv2.CAP_PROP_FRAME_COUNT)\n",
    "video_name = os.path.basename(VID_PATH).strip('.avi')\n",
    "out_video_path = f\"{OUT_PATH}/{os.path.basename(VID_PATH).strip('.avi')}_death4.avi\"\n",
    "\n",
    "while (1):\n",
    "    ret, frame = vid.read()\n",
    "    frame_count = vid.get(cv2.CAP_PROP_POS_FRAMES)\n",
    "    #print(frame_count)\n",
    "    if frame_count == 1:\n",
    "        height, width, channels = frame.shape\n",
    "        #print(height, width)\n",
    "        fourcc = cv2.VideoWriter_fourcc(*\"MJPG\")\n",
    "        writer = cv2.VideoWriter(out_video_path, fourcc, 10, (width, height), True)\n",
    "    \n",
    "    for death in deathspots:\n",
    "        #print(death)\n",
    "        frameNA, x1, y1, x2, y2, *_ = death  \n",
    "        frameNA = int(frameNA)\n",
    "        if frame_count > frameNA:\n",
    "            x1 = int(x1)\n",
    "            x2 = int(x2)\n",
    "            y1 = int(y1)\n",
    "            y2 = int(y2)\n",
    "            cv2.rectangle(frame, (x1,y1), (x2,y2), (0,255,255), 2)\n",
    "    \n",
    "    writer.write(frame)\n",
    "    if frame_count == total_frame_count:\n",
    "        break\n",
    "writer.release() \n",
    "print(out_video_path)"
   ]
  },
  {
   "cell_type": "code",
   "execution_count": 51,
   "id": "comparative-person",
   "metadata": {},
   "outputs": [],
   "source": [
    "k = pd.DataFrame(['#desc','neural'])"
   ]
  },
  {
   "cell_type": "code",
   "execution_count": 70,
   "id": "metric-banana",
   "metadata": {},
   "outputs": [
    {
     "name": "stdout",
     "output_type": "stream",
     "text": [
      "       #desc neural\n",
      "0     #expID    343\n",
      "1   3.840278      1\n",
      "2   5.284722      1\n",
      "3   4.180556      1\n",
      "4   5.881944      1\n",
      "5   5.118056      1\n",
      "6   3.111111      1\n",
      "7   6.263889      1\n",
      "8   6.354167      1\n",
      "9   4.916667      1\n",
      "10  5.513889      1\n",
      "11  7.673611      1\n",
      "12  4.506944      1\n",
      "13  3.909722      1\n",
      "14  6.423611      1\n",
      "15  4.569444      1\n",
      "16  6.680556      1\n",
      "17  6.368056      1\n",
      "18  5.208333      1\n",
      "19  9.013889      1\n"
     ]
    }
   ],
   "source": [
    "print(csv_outputs)"
   ]
  },
  {
   "cell_type": "code",
   "execution_count": 69,
   "id": "included-decade",
   "metadata": {},
   "outputs": [],
   "source": [
    "csv_outputs.loc[0] = ['#expID','343']"
   ]
  },
  {
   "cell_type": "code",
   "execution_count": 66,
   "id": "asian-stocks",
   "metadata": {},
   "outputs": [
    {
     "ename": "AttributeError",
     "evalue": "'list' object has no attribute 'concat'",
     "output_type": "error",
     "traceback": [
      "\u001b[1;31m---------------------------------------------------------------------------\u001b[0m",
      "\u001b[1;31mAttributeError\u001b[0m                            Traceback (most recent call last)",
      "\u001b[1;32m<ipython-input-66-d56fc8b717a1>\u001b[0m in \u001b[0;36m<module>\u001b[1;34m\u001b[0m\n\u001b[0;32m      1\u001b[0m \u001b[0mcheck\u001b[0m  \u001b[1;33m=\u001b[0m \u001b[1;33m[\u001b[0m\u001b[1;33m]\u001b[0m\u001b[1;33m\u001b[0m\u001b[1;33m\u001b[0m\u001b[0m\n\u001b[1;32m----> 2\u001b[1;33m \u001b[0mcheck\u001b[0m\u001b[1;33m.\u001b[0m\u001b[0mconcat\u001b[0m\u001b[1;33m(\u001b[0m\u001b[0mcsv_outputs\u001b[0m\u001b[1;33m)\u001b[0m\u001b[1;33m\u001b[0m\u001b[1;33m\u001b[0m\u001b[0m\n\u001b[0m",
      "\u001b[1;31mAttributeError\u001b[0m: 'list' object has no attribute 'concat'"
     ]
    }
   ],
   "source": [
    "#check  = pd.DataFrame(columns = column_names)\n",
    "print(csv_outputs)"
   ]
  },
  {
   "cell_type": "code",
   "execution_count": 65,
   "id": "danish-blake",
   "metadata": {},
   "outputs": [
    {
     "name": "stdout",
     "output_type": "stream",
     "text": [
      "[       #desc neural\n",
      "0     #expID    343\n",
      "1     #expID    343\n",
      "2   5.284722      1\n",
      "3   4.180556      1\n",
      "4   5.881944      1\n",
      "5   5.118056      1\n",
      "6   3.111111      1\n",
      "7   6.263889      1\n",
      "8   6.354167      1\n",
      "9   4.916667      1\n",
      "10  5.513889      1\n",
      "11  7.673611      1\n",
      "12  4.506944      1\n",
      "13  3.909722      1\n",
      "14  6.423611      1\n",
      "15  4.569444      1\n",
      "16  6.680556      1\n",
      "17  6.368056      1\n",
      "18  5.208333      1\n",
      "19  9.013889      1,        #desc neural\n",
      "0     #expID    343\n",
      "1     #expID    343\n",
      "2   5.284722      1\n",
      "3   4.180556      1\n",
      "4   5.881944      1\n",
      "5   5.118056      1\n",
      "6   3.111111      1\n",
      "7   6.263889      1\n",
      "8   6.354167      1\n",
      "9   4.916667      1\n",
      "10  5.513889      1\n",
      "11  7.673611      1\n",
      "12  4.506944      1\n",
      "13  3.909722      1\n",
      "14  6.423611      1\n",
      "15  4.569444      1\n",
      "16  6.680556      1\n",
      "17  6.368056      1\n",
      "18  5.208333      1\n",
      "19  9.013889      1]\n"
     ]
    }
   ],
   "source": [
    "print(check)"
   ]
  },
  {
   "cell_type": "code",
   "execution_count": 75,
   "id": "endless-hamilton",
   "metadata": {},
   "outputs": [],
   "source": [
    "csv_list = os.listdir('D:/NN_alive_dead_training_vids/Sorted_Deathtimes_Thresh')\n",
    "out_csv_path = 'C:/Users/benja/Desktop/AllN2.csv'\n",
    "count = 0\n",
    "for csv_name in csv_list:\n",
    "    csv_path = os.path.join('D:/NN_alive_dead_training_vids/Sorted_Deathtimes_Thresh', csv_name)\n",
    "    df = pd.read_csv(csv_path)\n",
    "    if count == 0:\n",
    "        pd.DataFrame(df).to_csv(out_csv_path, mode='w', header=True, index=None)\n",
    "    else:\n",
    "        pd.DataFrame(df).to_csv(out_csv_path, mode='a', header=True, index=None)\n",
    "    count+=1    "
   ]
  },
  {
   "cell_type": "code",
   "execution_count": 71,
   "id": "improved-competition",
   "metadata": {},
   "outputs": [],
   "source": []
  },
  {
   "cell_type": "code",
   "execution_count": 72,
   "id": "diagnostic-supplier",
   "metadata": {},
   "outputs": [
    {
     "name": "stdout",
     "output_type": "stream",
     "text": [
      "                 #desc  neural\n",
      "0               #expID     343\n",
      "1    10.63888888888889       1\n",
      "2    11.26388888888889       1\n",
      "3   11.666666666666666       1\n",
      "4   11.930555555555555       1\n",
      "5                13.75       1\n",
      "6    9.458333333333332       1\n",
      "7    12.38888888888889       1\n",
      "8    9.708333333333332       1\n",
      "9   11.333333333333334       1\n",
      "10  14.430555555555555       1\n",
      "11               #desc  manual\n",
      "12              #expID     343\n",
      "13                  14       1\n",
      "14                  13       1\n",
      "15                  13       1\n",
      "16                  11       1\n",
      "17                  11       1\n",
      "18                  10       1\n",
      "19                  10       1\n",
      "20                  11       1\n",
      "21                  14       1\n"
     ]
    }
   ],
   "source": []
  },
  {
   "cell_type": "code",
   "execution_count": 5,
   "id": "medical-casting",
   "metadata": {},
   "outputs": [
    {
     "name": "stdout",
     "output_type": "stream",
     "text": [
      "9141.0\n"
     ]
    }
   ],
   "source": [
    "vid = cv2.VideoCapture('E:/1217/day6.avi')\n",
    "total_frame_count = vid.get(cv2.CAP_PROP_FRAME_COUNT)\n",
    "print(total_frame_count)"
   ]
  },
  {
   "cell_type": "code",
   "execution_count": null,
   "id": "contrary-storage",
   "metadata": {},
   "outputs": [],
   "source": []
  }
 ],
 "metadata": {
  "kernelspec": {
   "display_name": "Python 3",
   "language": "python",
   "name": "python3"
  },
  "language_info": {
   "codemirror_mode": {
    "name": "ipython",
    "version": 3
   },
   "file_extension": ".py",
   "mimetype": "text/x-python",
   "name": "python",
   "nbconvert_exporter": "python",
   "pygments_lexer": "ipython3",
   "version": "3.7.3"
  }
 },
 "nbformat": 4,
 "nbformat_minor": 5
}
