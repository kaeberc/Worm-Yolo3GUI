{
 "cells": [
  {
   "cell_type": "code",
   "execution_count": 12,
   "id": "musical-anatomy",
   "metadata": {},
   "outputs": [],
   "source": [
    "import os\n",
    "import sys\n",
    "import cv2\n",
    "import csv\n",
    "import tqdm\n",
    "import pandas as pd\n",
    "import random\n",
    "import numpy as np\n",
    "import time\n",
    "from skimage.morphology import skeletonize, medial_axis\n",
    "from matplotlib import pyplot as plt\n",
    "from re import sub"
   ]
  },
  {
   "cell_type": "code",
   "execution_count": 13,
   "id": "ongoing-steps",
   "metadata": {},
   "outputs": [],
   "source": [
    "\n",
    "def bb_intersection_over_union(boxA, boxB):\n",
    "    # determine the (x, y)-coordinates of the intersection rectangle\n",
    "    xA = max(boxA[0], boxB[0])\n",
    "    yA = max(boxA[1], boxB[1])\n",
    "    xB = min(boxA[2], boxB[2])\n",
    "    yB = min(boxA[3], boxB[3])\n",
    "    # compute the area of intersection rectangle\n",
    "    interArea = max(0, xB - xA + 1) * max(0, yB - yA + 1)\n",
    "    # compute the area of both the prediction and ground-truth\n",
    "    # rectangles\n",
    "    boxAArea = (boxA[2] - boxA[0] + 1) * (boxA[3] - boxA[1] + 1)\n",
    "    boxBArea = (boxB[2] - boxB[0] + 1) * (boxB[3] - boxB[1] + 1)\n",
    "    # compute the intersection over union by taking the intersection\n",
    "    # area and dividing it by the sum of prediction + ground-truth\n",
    "    # areas - the interesection area\n",
    "    iou = interArea / float(boxAArea + boxBArea - interArea)\n",
    "    # return the intersection over union value\n",
    "    return iou"
   ]
  },
  {
   "cell_type": "code",
   "execution_count": 14,
   "id": "chief-dayton",
   "metadata": {},
   "outputs": [],
   "source": [
    "CSV_SORT_PATH = \"D:/DrugAge_resveratrol/Sorted/831.csv\"\n",
    "df = pd.read_csv(CSV_SORT_PATH,names=('frame', 'x1', 'y1', 'x2', 'y2','label','delta'))\n",
    "df['catagory'] = 'alive'\n",
    "#df['X']=df[['x1','x2']].mean(axis=1)\n",
    "#df['Y']=df[['y1','y2']].mean(axis=1)\n",
    "#df = df[['frame', 'X', 'Y','label']]\n",
    "uniqueFrames = df[\"frame\"].unique()\n",
    "uniqueIDs = df[\"label\"].unique()"
   ]
  },
  {
   "cell_type": "code",
   "execution_count": 15,
   "id": "painful-hearts",
   "metadata": {},
   "outputs": [],
   "source": [
    "threshold = 150\n",
    "vc = df.label.value_counts()\n",
    "test = vc[vc > threshold].index.tolist()\n",
    "csv_outputs = []\n",
    "deadboxes = []\n",
    "deathspots = []\n",
    "for ID in test:        \n",
    "    filtval = df['label'] ==ID\n",
    "    interim = df[filtval]\n",
    "    interimD = []\n",
    "    interim2 = np.asarray(interim)\n",
    "    fill = 0\n",
    "    deadcount = 0\n",
    "    for row in interim2:\n",
    "        frameNA, x1A, y1A, x2A, y2A, labelA, deltaA, catagoryA, *_ = row\n",
    "        if fill > 1:\n",
    "            boxA = [x1A, y1A, x2A, y2A]\n",
    "            boxB = [x1B, y1B, x2B, y2B]\n",
    "            deltaA = bb_intersection_over_union(boxA, boxB) \n",
    "            #print(deltaA)\n",
    "            if deltaA > 0.95:\n",
    "                deadcount += 1\n",
    "                #print(deadcount)\n",
    "            #print(fill)\n",
    "            if deadcount > 15:\n",
    "                catagoryA = 'dead'\n",
    "               # print(deadcount)\n",
    "            if deadcount == 16:\n",
    "                if deadboxes == []:\n",
    "                    deathspots.append([frameNA, x1A, y1A, x2A, y2A])     \n",
    "                    deadboxes.append([x1A, y1A, x2A, y2A])  \n",
    "                    csv_outputs.append(frameNA)\n",
    "                else:\n",
    "                    notunique = 0\n",
    "                    for box in deadboxes:\n",
    "                        #print(box)\n",
    "                        x1D, y1D, x2D, y2D, *_ = box\n",
    "                        boxD = [x1D, y1D, x2D, y2D]\n",
    "                        deltaD = bb_intersection_over_union(boxA, boxD)  \n",
    "                        if deltaD > 0.3:\n",
    "                            notunique = 1\n",
    "                    if notunique == 0:\n",
    "                        deathspots.append([frameNA, x1A, y1A, x2A, y2A])  \n",
    "                        deadboxes.append([x1A, y1A, x2A, y2A])               \n",
    "                        csv_outputs.append((frameNA/144))\n",
    "\n",
    "                #print(deathtime)\n",
    "                #print(frameNA)\n",
    "            #newRow = [frameNA, x1A, y1A, x2A, y2A, labelA, deltaA, catagoryA]\n",
    "            #interimD.append(newRow)\n",
    "        frameNB, x1B, y1B, x2B, y2B,labelB, deltaB, catagoryB, *_ = row\n",
    "        fill +=1\n",
    "        if deadcount == 16:\n",
    "            break\n",
    "            \n",
    "        #interimD.append(deathtime)\n",
    "    #interimD = pd.DataFrame(interimD, columns = ['deathframe'])\n",
    "    #csv_outputs.append(interimD)\n",
    "#large_df = pd.concat(csv_outputs, ignore_index=True)  \n",
    "csv_outputs = pd.DataFrame(csv_outputs, columns = ['#desc'])\n",
    "csv_outputs['neural'] = '1'\n",
    "\n",
    "#OUT_PATH = 'C:/Users/benja/Desktop/NN_alive_dead_training_vids/Sorted_Deathtimes/356_sorted_AD.csv'\n",
    "#pd.DataFrame(csv_outputs).to_csv(OUT_PATH, mode='a', header=False, index=None)"
   ]
  },
  {
   "cell_type": "code",
   "execution_count": 16,
   "id": "starting-collective",
   "metadata": {},
   "outputs": [
    {
     "name": "stdout",
     "output_type": "stream",
     "text": [
      "    frameNA           x1          y1           x2          y2\n",
      "0     914.0  1104.734249  612.299628  1128.897210  664.742772\n",
      "1    1174.0   551.842434  454.111327   575.540599  487.928577\n",
      "2    1332.0   704.264299  213.758445   733.016154  231.213284\n",
      "3    1084.0   826.817119  240.918314   865.676527  256.034232\n",
      "4    1572.0   846.650556  180.085397   877.653296  217.205148\n",
      "5    1661.0   536.883394  570.152091   576.270093  600.565605\n",
      "6     795.0   333.863844  552.428993   387.108704  569.956169\n",
      "7    1541.0   504.536781  544.904237   524.935327  577.638797\n",
      "8    2056.0   727.786395  456.657631   766.129210  473.607709\n",
      "9     294.0   663.975680  538.157650   688.204996  575.168618\n",
      "10   1205.0   814.323042  619.953123   844.029112  642.782034\n",
      "11   1774.0   645.027815  332.061796   677.595614  353.836214\n",
      "12   2045.0   543.112171  181.615646   561.231977  225.113260\n",
      "13    294.0  1134.745835  794.501706  1168.929293  847.720490\n",
      "14   1972.0   823.144935  574.367989   842.928754  592.703772\n",
      "15   1272.0   570.348972  283.545770   586.694878  328.309095\n",
      "16   1320.0   831.136855  460.399478   849.212154  493.096791\n",
      "17   2254.0   849.139620  199.374747   870.536714  234.542247\n"
     ]
    }
   ],
   "source": [
    "deathspots2 = pd.DataFrame(deathspots, columns = ['frameNA','x1', 'y1', 'x2', 'y2'])\n",
    "print(deathspots2)"
   ]
  },
  {
   "cell_type": "code",
   "execution_count": 26,
   "id": "primary-excess",
   "metadata": {},
   "outputs": [],
   "source": [
    "\n",
    "\n"
   ]
  },
  {
   "cell_type": "code",
   "execution_count": 17,
   "id": "terminal-electricity",
   "metadata": {},
   "outputs": [
    {
     "name": "stdout",
     "output_type": "stream",
     "text": [
      "D:/DrugAge_resveratrol//831_death5.avi\n"
     ]
    }
   ],
   "source": [
    "VID_PATH = \"D:/DrugAge_resveratrol/Raw/831.avi\"\n",
    "vid = cv2.VideoCapture(VID_PATH)\n",
    "OUT_PATH = \"D:/DrugAge_resveratrol/\"\n",
    "total_frame_count = vid.get(cv2.CAP_PROP_FRAME_COUNT)\n",
    "video_name = os.path.basename(VID_PATH).strip('.avi')\n",
    "out_video_path = f\"{OUT_PATH}/{os.path.basename(VID_PATH).strip('.avi')}_death5.avi\"\n",
    "\n",
    "while (1):\n",
    "    ret, frame = vid.read()\n",
    "    frame_count = vid.get(cv2.CAP_PROP_POS_FRAMES)\n",
    "    #print(frame_count)\n",
    "    if frame_count == 1:\n",
    "        height, width, channels = frame.shape\n",
    "        #print(height, width)\n",
    "        fourcc = cv2.VideoWriter_fourcc(*\"MJPG\")\n",
    "        writer = cv2.VideoWriter(out_video_path, fourcc, 10, (width, height), True)\n",
    "    \n",
    "    for death in deathspots:\n",
    "        #print(death)\n",
    "        frameNA, x1, y1, x2, y2, *_ = death  \n",
    "        frameNA = int(frameNA)\n",
    "        if frame_count > frameNA:\n",
    "            x1 = int(x1)\n",
    "            x2 = int(x2)\n",
    "            y1 = int(y1)\n",
    "            y2 = int(y2)\n",
    "            cv2.rectangle(frame, (x1,y1), (x2,y2), (0,255,255), 2)\n",
    "    \n",
    "    writer.write(frame)\n",
    "    if frame_count == total_frame_count:\n",
    "        break\n",
    "writer.release() \n",
    "print(out_video_path)"
   ]
  },
  {
   "cell_type": "code",
   "execution_count": 51,
   "id": "comparative-person",
   "metadata": {},
   "outputs": [],
   "source": [
    "k = pd.DataFrame(['#desc','neural'])"
   ]
  },
  {
   "cell_type": "code",
   "execution_count": 70,
   "id": "metric-banana",
   "metadata": {},
   "outputs": [
    {
     "name": "stdout",
     "output_type": "stream",
     "text": [
      "       #desc neural\n",
      "0     #expID    343\n",
      "1   3.840278      1\n",
      "2   5.284722      1\n",
      "3   4.180556      1\n",
      "4   5.881944      1\n",
      "5   5.118056      1\n",
      "6   3.111111      1\n",
      "7   6.263889      1\n",
      "8   6.354167      1\n",
      "9   4.916667      1\n",
      "10  5.513889      1\n",
      "11  7.673611      1\n",
      "12  4.506944      1\n",
      "13  3.909722      1\n",
      "14  6.423611      1\n",
      "15  4.569444      1\n",
      "16  6.680556      1\n",
      "17  6.368056      1\n",
      "18  5.208333      1\n",
      "19  9.013889      1\n"
     ]
    }
   ],
   "source": [
    "print(csv_outputs)"
   ]
  },
  {
   "cell_type": "code",
   "execution_count": 69,
   "id": "included-decade",
   "metadata": {},
   "outputs": [],
   "source": [
    "csv_outputs.loc[0] = ['#expID','343']"
   ]
  },
  {
   "cell_type": "code",
   "execution_count": 66,
   "id": "asian-stocks",
   "metadata": {},
   "outputs": [
    {
     "ename": "AttributeError",
     "evalue": "'list' object has no attribute 'concat'",
     "output_type": "error",
     "traceback": [
      "\u001b[1;31m---------------------------------------------------------------------------\u001b[0m",
      "\u001b[1;31mAttributeError\u001b[0m                            Traceback (most recent call last)",
      "\u001b[1;32m<ipython-input-66-d56fc8b717a1>\u001b[0m in \u001b[0;36m<module>\u001b[1;34m\u001b[0m\n\u001b[0;32m      1\u001b[0m \u001b[0mcheck\u001b[0m  \u001b[1;33m=\u001b[0m \u001b[1;33m[\u001b[0m\u001b[1;33m]\u001b[0m\u001b[1;33m\u001b[0m\u001b[1;33m\u001b[0m\u001b[0m\n\u001b[1;32m----> 2\u001b[1;33m \u001b[0mcheck\u001b[0m\u001b[1;33m.\u001b[0m\u001b[0mconcat\u001b[0m\u001b[1;33m(\u001b[0m\u001b[0mcsv_outputs\u001b[0m\u001b[1;33m)\u001b[0m\u001b[1;33m\u001b[0m\u001b[1;33m\u001b[0m\u001b[0m\n\u001b[0m",
      "\u001b[1;31mAttributeError\u001b[0m: 'list' object has no attribute 'concat'"
     ]
    }
   ],
   "source": [
    "#check  = pd.DataFrame(columns = column_names)\n",
    "print(csv_outputs)"
   ]
  },
  {
   "cell_type": "code",
   "execution_count": 65,
   "id": "danish-blake",
   "metadata": {},
   "outputs": [
    {
     "name": "stdout",
     "output_type": "stream",
     "text": [
      "[       #desc neural\n",
      "0     #expID    343\n",
      "1     #expID    343\n",
      "2   5.284722      1\n",
      "3   4.180556      1\n",
      "4   5.881944      1\n",
      "5   5.118056      1\n",
      "6   3.111111      1\n",
      "7   6.263889      1\n",
      "8   6.354167      1\n",
      "9   4.916667      1\n",
      "10  5.513889      1\n",
      "11  7.673611      1\n",
      "12  4.506944      1\n",
      "13  3.909722      1\n",
      "14  6.423611      1\n",
      "15  4.569444      1\n",
      "16  6.680556      1\n",
      "17  6.368056      1\n",
      "18  5.208333      1\n",
      "19  9.013889      1,        #desc neural\n",
      "0     #expID    343\n",
      "1     #expID    343\n",
      "2   5.284722      1\n",
      "3   4.180556      1\n",
      "4   5.881944      1\n",
      "5   5.118056      1\n",
      "6   3.111111      1\n",
      "7   6.263889      1\n",
      "8   6.354167      1\n",
      "9   4.916667      1\n",
      "10  5.513889      1\n",
      "11  7.673611      1\n",
      "12  4.506944      1\n",
      "13  3.909722      1\n",
      "14  6.423611      1\n",
      "15  4.569444      1\n",
      "16  6.680556      1\n",
      "17  6.368056      1\n",
      "18  5.208333      1\n",
      "19  9.013889      1]\n"
     ]
    }
   ],
   "source": [
    "print(check)"
   ]
  },
  {
   "cell_type": "code",
   "execution_count": 75,
   "id": "endless-hamilton",
   "metadata": {},
   "outputs": [],
   "source": [
    "csv_list = os.listdir('D:/NN_alive_dead_training_vids/Sorted_Deathtimes_Thresh')\n",
    "out_csv_path = 'C:/Users/benja/Desktop/AllN2.csv'\n",
    "count = 0\n",
    "for csv_name in csv_list:\n",
    "    csv_path = os.path.join('D:/NN_alive_dead_training_vids/Sorted_Deathtimes_Thresh', csv_name)\n",
    "    df = pd.read_csv(csv_path)\n",
    "    if count == 0:\n",
    "        pd.DataFrame(df).to_csv(out_csv_path, mode='w', header=True, index=None)\n",
    "    else:\n",
    "        pd.DataFrame(df).to_csv(out_csv_path, mode='a', header=True, index=None)\n",
    "    count+=1    "
   ]
  },
  {
   "cell_type": "code",
   "execution_count": 71,
   "id": "improved-competition",
   "metadata": {},
   "outputs": [],
   "source": []
  },
  {
   "cell_type": "code",
   "execution_count": 72,
   "id": "diagnostic-supplier",
   "metadata": {},
   "outputs": [
    {
     "name": "stdout",
     "output_type": "stream",
     "text": [
      "                 #desc  neural\n",
      "0               #expID     343\n",
      "1    10.63888888888889       1\n",
      "2    11.26388888888889       1\n",
      "3   11.666666666666666       1\n",
      "4   11.930555555555555       1\n",
      "5                13.75       1\n",
      "6    9.458333333333332       1\n",
      "7    12.38888888888889       1\n",
      "8    9.708333333333332       1\n",
      "9   11.333333333333334       1\n",
      "10  14.430555555555555       1\n",
      "11               #desc  manual\n",
      "12              #expID     343\n",
      "13                  14       1\n",
      "14                  13       1\n",
      "15                  13       1\n",
      "16                  11       1\n",
      "17                  11       1\n",
      "18                  10       1\n",
      "19                  10       1\n",
      "20                  11       1\n",
      "21                  14       1\n"
     ]
    }
   ],
   "source": []
  },
  {
   "cell_type": "code",
   "execution_count": 5,
   "id": "medical-casting",
   "metadata": {},
   "outputs": [
    {
     "name": "stdout",
     "output_type": "stream",
     "text": [
      "9141.0\n"
     ]
    }
   ],
   "source": [
    "vid = cv2.VideoCapture('E:/1217/day6.avi')\n",
    "total_frame_count = vid.get(cv2.CAP_PROP_FRAME_COUNT)\n",
    "print(total_frame_count)"
   ]
  },
  {
   "cell_type": "code",
   "execution_count": null,
   "id": "cellular-bracelet",
   "metadata": {},
   "outputs": [],
   "source": []
  }
 ],
 "metadata": {
  "kernelspec": {
   "display_name": "Python 3",
   "language": "python",
   "name": "python3"
  },
  "language_info": {
   "codemirror_mode": {
    "name": "ipython",
    "version": 3
   },
   "file_extension": ".py",
   "mimetype": "text/x-python",
   "name": "python",
   "nbconvert_exporter": "python",
   "pygments_lexer": "ipython3",
   "version": "3.7.3"
  }
 },
 "nbformat": 4,
 "nbformat_minor": 5
}
